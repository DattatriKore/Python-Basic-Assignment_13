{
 "cells": [
  {
   "cell_type": "markdown",
   "id": "9e170569",
   "metadata": {},
   "source": [
    "Q.[1] : What advantages do Excel spreadsheets have over CSV spreadsheets?\n",
    "    \n",
    "Ans:- In Excel, spreadsheets can have values of data types other than strings; cells can have different fonts, sizes, or color settings; cells can have varying widths and heights; adjacent cells can be merged; and you can embed images and charts."
   ]
  },
  {
   "cell_type": "markdown",
   "id": "5b585681",
   "metadata": {},
   "source": [
    "Q.[2] : What do you pass to csv.reader() and csv.writer() to create reader and writer objects?\n",
    "\n",
    "Ans:- we pass a File object, obtained from a call to open()."
   ]
  },
  {
   "cell_type": "markdown",
   "id": "dabda88a",
   "metadata": {},
   "source": [
    "Q.[3] : What modes do File objects for reader and writer objects need to be opened in?\n",
    "    \n",
    "Ans:- File objects need to be opened in read-binary ('rb') for Reader objects and write-binary ('wb') for Writer objects"
   ]
  },
  {
   "cell_type": "markdown",
   "id": "4c99bea7",
   "metadata": {},
   "source": [
    "Q.[4] : What method takes a list argument and writes it to a CSV file?\n",
    "    \n",
    "Ans:- The writerow() method"
   ]
  },
  {
   "cell_type": "markdown",
   "id": "689895b8",
   "metadata": {},
   "source": [
    "Q.[5] : What do the keyword arguments delimiter and line terminator do?\n",
    "    \n",
    "Ans:- \n",
    "\n",
    "     The delimiter argument changes the string used to separate cells in a row. \n",
    "     The lineterminator argument changes the string used to separate rows."
   ]
  },
  {
   "cell_type": "markdown",
   "id": "8f738689",
   "metadata": {},
   "source": [
    "Q.[6] : What function takes a string of JSON data and returns a Python data structure?\n",
    "    \n",
    "Ans:-   json.loads()"
   ]
  },
  {
   "cell_type": "markdown",
   "id": "10e05511",
   "metadata": {},
   "source": [
    "Q.[7] : What function takes a Python data structure and returns a string of JSON data?\n",
    "    \n",
    "Ans:- json.dumps()"
   ]
  },
  {
   "cell_type": "code",
   "execution_count": null,
   "id": "8d5c1ebf",
   "metadata": {},
   "outputs": [],
   "source": []
  }
 ],
 "metadata": {
  "kernelspec": {
   "display_name": "Python 3 (ipykernel)",
   "language": "python",
   "name": "python3"
  },
  "language_info": {
   "codemirror_mode": {
    "name": "ipython",
    "version": 3
   },
   "file_extension": ".py",
   "mimetype": "text/x-python",
   "name": "python",
   "nbconvert_exporter": "python",
   "pygments_lexer": "ipython3",
   "version": "3.9.13"
  }
 },
 "nbformat": 4,
 "nbformat_minor": 5
}
